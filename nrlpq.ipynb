{
  "nbformat": 4,
  "nbformat_minor": 0,
  "metadata": {
    "colab": {
      "name": "nrlpq.ipynb",
      "provenance": [],
      "authorship_tag": "ABX9TyPgmhEUnmvk+eHk1wM3tEWP",
      "include_colab_link": true
    },
    "kernelspec": {
      "name": "python3",
      "display_name": "Python 3"
    },
    "language_info": {
      "name": "python"
    },
    "accelerator": "GPU"
  },
  "cells": [
    {
      "cell_type": "markdown",
      "metadata": {
        "id": "view-in-github",
        "colab_type": "text"
      },
      "source": [
        "<a href=\"https://colab.research.google.com/github/meghbhalerao/nrlpq/blob/main/nrlpq.ipynb\" target=\"_parent\"><img src=\"https://colab.research.google.com/assets/colab-badge.svg\" alt=\"Open In Colab\"/></a>"
      ]
    },
    {
      "cell_type": "code",
      "execution_count": 4,
      "metadata": {
        "id": "xpS1yx2Xx2DW"
      },
      "outputs": [],
      "source": [
        "import torch.nn as nn\n",
        "import torch\n",
        "import torchvision\n",
        "import numpy as np\n",
        "from torch.utils.data import Subset\n",
        "import torchvision.transforms as transforms"
      ]
    },
    {
      "cell_type": "code",
      "source": [
        "model = torch.hub.load('pytorch/vision:v0.10.0', 'resnet18', pretrained=True)\n",
        "batch_size = 128\n",
        "print(\"batch size is\", batch_size)\n",
        "transform = transforms.Compose(\n",
        "    [transforms.ToTensor(),\n",
        "     transforms.Normalize((0.5, 0.5, 0.5), (0.5, 0.5, 0.5))])\n",
        "trainset = torchvision.datasets.CIFAR10(root='./data', train=True, download=True, transform=transform)\n",
        "n_alltrain = len(trainset)\n",
        "print(\"len of all train data is\", n_alltrain)\n",
        "trainloader = torch.utils.data.DataLoader(trainset, batch_size=batch_size, shuffle=True, num_workers=2)\n",
        "n_train = int(n_alltrain * 0.8)\n",
        "n_val = n_alltrain - n_train\n",
        "print(\"len of train val split is \", n_train, n_val, \"respectively\")\n",
        "\n",
        "val_idxs = np.random.choice( n_alltrain, size = n_val ,replace=False)\n",
        "train_dataset = Subset(trainset, val_idxs)\n",
        "\n",
        "trainset = Subset(trainset, list(set(range(len(trainset))) -  set(val_idxs)))\n",
        "valset = torch.utils.data.Subset(trainset, val_idxs)\n",
        "\n",
        "\n",
        "testset = torchvision.datasets.CIFAR10(root='./data', train=False, download=True, transform=transform)\n",
        "testloader = torch.utils.data.DataLoader(testset, batch_size=batch_size, shuffle=False, num_workers=2)"
      ],
      "metadata": {
        "colab": {
          "base_uri": "https://localhost:8080/"
        },
        "id": "24WPtHjGy1vD",
        "outputId": "54ed139d-ae40-4ec5-fb3c-e8685a9e342d"
      },
      "execution_count": 7,
      "outputs": [
        {
          "output_type": "stream",
          "name": "stderr",
          "text": [
            "Using cache found in /root/.cache/torch/hub/pytorch_vision_v0.10.0\n"
          ]
        },
        {
          "output_type": "stream",
          "name": "stdout",
          "text": [
            "batch size is 128\n",
            "Files already downloaded and verified\n",
            "len of all train data is 50000\n",
            "len of train val split is  40000 10000 respectively\n",
            "Files already downloaded and verified\n"
          ]
        }
      ]
    },
    {
      "cell_type": "code",
      "source": [
        "def train(n_train)"
      ],
      "metadata": {
        "id": "D3JMQx2y2jJL"
      },
      "execution_count": null,
      "outputs": []
    }
  ]
}