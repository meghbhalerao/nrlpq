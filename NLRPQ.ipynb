{
  "nbformat": 4,
  "nbformat_minor": 0,
  "metadata": {
    "colab": {
      "name": "Copy of nrlpq.ipynb",
      "provenance": [],
      "collapsed_sections": [],
      "include_colab_link": true
    },
    "kernelspec": {
      "name": "python3",
      "display_name": "Python 3"
    },
    "language_info": {
      "name": "python"
    },
    "accelerator": "GPU"
  },
  "cells": [
    {
      "cell_type": "markdown",
      "metadata": {
        "id": "view-in-github",
        "colab_type": "text"
      },
      "source": [
        "<a href=\"https://colab.research.google.com/github/meghbhalerao/nrlpq/blob/main/NLRPQ.ipynb\" target=\"_parent\"><img src=\"https://colab.research.google.com/assets/colab-badge.svg\" alt=\"Open In Colab\"/></a>"
      ]
    },
    {
      "cell_type": "code",
      "execution_count": 46,
      "metadata": {
        "id": "xpS1yx2Xx2DW",
        "colab": {
          "base_uri": "https://localhost:8080/"
        },
        "outputId": "7dbef93b-7090-42e0-918c-9b4acb232782"
      },
      "outputs": [
        {
          "output_type": "stream",
          "name": "stdout",
          "text": [
            "Mounted at /content/gdrive\n"
          ]
        }
      ],
      "source": [
        "import torch.nn as nn\n",
        "import torch\n",
        "import torchvision\n",
        "import numpy as np\n",
        "from torch.utils.data import Subset\n",
        "import torchvision.transforms as transforms\n",
        "import torch\n",
        "import torch.nn as nn\n",
        "from typing import Type, Any, Callable, Union, List, Optional\n",
        "import os\n",
        "from google.colab import drive\n",
        "drive.mount('/content/gdrive', force_remount=True)\n",
        "from torchvision import models\n",
        "import torch.nn.functional as F\n",
        "import copy"
      ]
    },
    {
      "cell_type": "code",
      "source": [
        "num_classes = 10"
      ],
      "metadata": {
        "id": "_xsmHEV2V405"
      },
      "execution_count": 47,
      "outputs": []
    },
    {
      "cell_type": "code",
      "source": [
        "nesting_start=3\n",
        "\n",
        "class BlurPoolConv2d(torch.nn.Module):\n",
        "    def __init__(self, conv):\n",
        "        super().__init__()\n",
        "        default_filter = torch.tensor([[[[1, 2, 1], [2, 4, 2], [1, 2, 1]]]]) / 16.0\n",
        "        filt = default_filter.repeat(conv.in_channels, 1, 1, 1)\n",
        "        self.conv = conv\n",
        "        self.register_buffer('blur_filter', filt)\n",
        "\n",
        "    def forward(self, x):\n",
        "        blurred = F.conv2d(x, self.blur_filter, stride=1, padding=(1, 1),\n",
        "                           groups=self.conv.in_channels, bias=None)\n",
        "        return self.conv.forward(blurred)\n",
        "\n",
        "class Model():\n",
        "    def __init__(self, gpu, nesting, single_head, fixed_feature, use_blurpool):\n",
        "        super().__init__()\n",
        "        self.gpu = gpu\n",
        "        self.nesting = nesting\n",
        "        self.sh = single_head\n",
        "        self.ff = fixed_feature\n",
        "        self.use_blurpool = use_blurpool\n",
        "\n",
        "\n",
        "    def load_model(self, model, model_weights_disk, modify_keys = True):\n",
        "        if os.path.isfile(model_weights_disk):\n",
        "            print(\"=> loading checkpoint '{}'\".format(model_weights_disk))\n",
        "            if self.gpu is None:\n",
        "                checkpoint = torch.load(model_weights_disk)\n",
        "            else:\n",
        "                # Map model to be loaded to specified single gpu.\n",
        "                loc = 'cuda:{}'.format(self.gpu)\n",
        "                checkpoint = torch.load(model_weights_disk, map_location=loc)\n",
        "            if modify_keys:\n",
        "              checkpoint = self.change_str_dict(checkpoint)\n",
        "            \n",
        "\n",
        "\n",
        "            try:\n",
        "              model.load_state_dict(checkpoint)\n",
        "            except:\n",
        "              proxy_layer = nn.Linear(2048, num_classes)\n",
        "              print(\"randomly init last fc layer\")\n",
        "              checkpoint[\"fc.bias\"] = proxy_layer.bias\n",
        "              checkpoint[\"fc.weight\"] = proxy_layer.weight\n",
        "              print(checkpoint.keys())\n",
        "              model.load_state_dict(checkpoint)\n",
        "\n",
        "            print(\"=> loaded checkpoint '{}' \"\n",
        "                  .format(model_weights_disk))\n",
        "        else:\n",
        "            print(\"=> no model found at '{}'\".format(model_weights_disk))\n",
        "\n",
        "        return model\n",
        "\n",
        "\n",
        "    def change_str_dict(self, x):\n",
        "      x_ = {}\n",
        "      for key, val in x.items():\n",
        "        key_new = str(key).replace(\"module.\",\"\")\n",
        "        x_[key_new] = copy.copy(val)\n",
        "      return x_\n",
        "\n",
        "    def initModel(self):\n",
        "        print(\"Model init: nesting=%d, sh=%d, ff=%d\" %(self.nesting, self.sh, self.ff))\n",
        "        model = models.resnet50(pretrained=True)\n",
        "        nesting_list = [2**i for i in range(nesting_start, 12)] if self.nesting else None\n",
        "\n",
        "        # Nesting/Fixed Feature Modification code block\n",
        "        if self.nesting:\n",
        "            ff= \"Single Head\" if self.sh else \"Multi Head\"\n",
        "            print(\"Using Nesting of type - {}\".format(ff))\n",
        "            print(\"Nesting Starts from {}\".format(2**nesting_start))\n",
        "            if self.sh:\n",
        "                model.fc =  SingleHeadNestedLinear(nesting_list, num_classes=num_classes)\n",
        "            else:\n",
        "                model.fc =  MultiHeadNestedLinear(nesting_list, num_classes=num_classes)\n",
        "        elif self.ff != 2048:\n",
        "            print(f\"Using Fixed Features = {self.ff}\")\n",
        "            model.fc =  FixedFeatureLayer(self.ff, num_classes)\n",
        "\n",
        "        def apply_blurpool(mod: torch.nn.Module):\n",
        "            for (name, child) in mod.named_children():\n",
        "                if isinstance(child, torch.nn.Conv2d) and (np.max(child.stride) > 1 and child.in_channels >= 16):\n",
        "                    setattr(mod, name, BlurPoolConv2d(child))\n",
        "                else: apply_blurpool(child)\n",
        "        if self.use_blurpool: apply_blurpool(model)\n",
        "\n",
        "        model = model.to(memory_format=torch.channels_last)\n",
        "        model = model.to(self.gpu)\n",
        "\n",
        "        return model\n",
        "\n",
        "\n",
        "import torch\n",
        "import torch.nn as nn\n",
        "from typing import Type, Any, Callable, Union, List, Optional\n",
        "\n",
        "class SingleHeadNestedLinear(nn.Linear):\n",
        "\tdef __init__(self, nesting_list: List, num_classes=num_classes, **kwargs):\n",
        "\t\tsuper(SingleHeadNestedLinear, self).__init__(nesting_list[-1], num_classes, **kwargs)\n",
        "\t\tself.nesting_list=nesting_list\n",
        "\t\tself.num_classes=num_classes # Number of classes for classification\n",
        "\n",
        "\tdef forward(self, x):\n",
        "\t\tnesting_logits = ()\n",
        "\t\tfor i, num_feat in enumerate(self.nesting_list):\n",
        "\t\t\tif not (self.bias is None):\n",
        "\t\t\t\tlogit = torch.matmul(x[:, :num_feat], (self.weight[:, :num_feat]).t()) + self.bias\n",
        "\t\t\telse:\n",
        "\t\t\t\tlogit = torch.matmul(x[:, :num_feat], (self.weight[:, :num_feat]).t())\n",
        "\t\t\tnesting_logits+= (logit,)\n",
        "\t\treturn nesting_logits\n",
        "\n",
        "class MultiHeadNestedLinear(nn.Module):\n",
        "\tdef __init__(self, nesting_list: List, num_classes=num_classes, **kwargs):\n",
        "\t\tsuper(MultiHeadNestedLinear, self).__init__()\n",
        "\t\tself.nesting_list=nesting_list\n",
        "\t\tself.num_classes=num_classes # Number of classes for classification\n",
        "\t\tfor i, num_feat in enumerate(self.nesting_list):\n",
        "\t\t\tsetattr(self, f\"nesting_classifier_{i}\", nn.Linear(num_feat, self.num_classes, **kwargs))\t\t\n",
        "\n",
        "\tdef forward(self, x):\n",
        "\t\tnesting_logits = ()\n",
        "\t\tfor i, num_feat in enumerate(self.nesting_list):\n",
        "\t\t\tnesting_logits +=  (getattr(self, f\"nesting_classifier_{i}\")(x[:, :num_feat]),)\n",
        "\t\treturn nesting_logits\n",
        "\n",
        "\t\t\n",
        "class FixedFeatureLayer(nn.Linear):\n",
        "    # This layer just takes the first \"K\" Features for the classification. \n",
        "    # Creating a separate layer and customized fwd pass helps to not change the base codes at all.\n",
        "    def __init__(self, in_features, out_features, **kwargs):\n",
        "        super(FixedFeatureLayer, self).__init__(in_features, out_features, **kwargs)\n",
        "\n",
        "    def forward(self, x):\n",
        "        if not (self.bias is None):\n",
        "            out = torch.matmul(x[:, :self.in_features], self.weight.t()) + self.bias\n",
        "        else:\n",
        "            out = torch.matmul(x[:, :self.in_features], self.weight.t())\n",
        "        return out\n",
        "\n",
        "class NestedCELoss(nn.Module):\n",
        "\tdef __init__(self, **kwargs):\n",
        "\t\tsuper(NestedCELoss, self).__init__()\n",
        "\t\tself.criterion = nn.CrossEntropyLoss(**kwargs)\n",
        "\tdef forward(self, output, target):\n",
        "\t\tloss=0\n",
        "\t\tfor o in output:\n",
        "\t\t\tloss+= self.criterion(o, target)\n",
        "\n",
        "\t\treturn loss"
      ],
      "metadata": {
        "id": "5GlfwMHQ4Voy"
      },
      "execution_count": 48,
      "outputs": []
    },
    {
      "cell_type": "code",
      "source": [
        "\n",
        "\n",
        "\n",
        "mdl_wts = os.path.join(\"/content/gdrive/MyDrive/nrlpq/Imagenet1k_R50_sh1_mh0_ns3_ff2048/final_weights.pt\")\n",
        "model_wts_path = os.path.join(mdl_wts)\n",
        "nesting = 1\n",
        "single_head = 1\n",
        "fixed_feature = 2048\n",
        "model = Model(0, nesting, single_head, fixed_feature, use_blurpool=1)\n",
        "\n",
        "\n",
        "model_init = model.initModel()\n",
        "model = model.load_model(model_init, model_wts_path)\n",
        "print(\"Loaded pretrained model: \" + str(model_wts_path))\n",
        "\n",
        "\n",
        "batch_size = 128\n",
        "print(\"batch size is\", batch_size)\n",
        "transform = transforms.Compose(\n",
        "    [transforms.ToTensor(),\n",
        "     transforms.Normalize((0.5, 0.5, 0.5), (0.5, 0.5, 0.5))])\n",
        "trainset_all = torchvision.datasets.CIFAR10(root='./data', train=True, download=True, transform=transform)\n",
        "n_alltrain = len(trainset_all)\n",
        "print(\"len of all train data is\", n_alltrain)\n",
        "\n",
        "n_train = int(n_alltrain * 0.8)\n",
        "n_val = n_alltrain - n_train\n",
        "print(\"len of train val split is \", n_train, n_val, \"respectively\")\n",
        "\n",
        "val_idxs = np.random.choice(n_alltrain, size = n_val ,replace=False)\n",
        "\n",
        "trainset = Subset(trainset_all, list(set(range(len(trainset_all))) -  set(val_idxs)))\n",
        "train_loader = torch.utils.data.DataLoader(trainset, batch_size=batch_size, shuffle=True, num_workers=2)\n",
        "\n",
        "valset = Subset(trainset_all, val_idxs)\n",
        "val_loader = torch.utils.data.DataLoader(valset, batch_size=batch_size, shuffle=False, num_workers=2)\n",
        "\n",
        "testset = torchvision.datasets.CIFAR10(root='./data', train=False, download=True, transform=transform)\n",
        "test_loader = torch.utils.data.DataLoader(testset, batch_size=batch_size, shuffle=False, num_workers=2)\n",
        "\n",
        "\n",
        "print(\"length of train, val and test DataLoader is \", len(train_loader), len(val_loader), len(test_loader))"
      ],
      "metadata": {
        "colab": {
          "base_uri": "https://localhost:8080/"
        },
        "id": "24WPtHjGy1vD",
        "outputId": "e78ce4b8-8ef1-4246-bfbe-e3a75b5f7f79"
      },
      "execution_count": 49,
      "outputs": [
        {
          "output_type": "stream",
          "name": "stdout",
          "text": [
            "Model init: nesting=1, sh=1, ff=2048\n",
            "Using Nesting of type - Single Head\n",
            "Nesting Starts from 8\n",
            "=> loading checkpoint '/content/gdrive/MyDrive/nrlpq/Imagenet1k_R50_sh1_mh0_ns3_ff2048/final_weights.pt'\n",
            "randomly init last fc layer\n",
            "dict_keys(['conv1.weight', 'bn1.weight', 'bn1.bias', 'bn1.running_mean', 'bn1.running_var', 'bn1.num_batches_tracked', 'layer1.0.conv1.weight', 'layer1.0.bn1.weight', 'layer1.0.bn1.bias', 'layer1.0.bn1.running_mean', 'layer1.0.bn1.running_var', 'layer1.0.bn1.num_batches_tracked', 'layer1.0.conv2.weight', 'layer1.0.bn2.weight', 'layer1.0.bn2.bias', 'layer1.0.bn2.running_mean', 'layer1.0.bn2.running_var', 'layer1.0.bn2.num_batches_tracked', 'layer1.0.conv3.weight', 'layer1.0.bn3.weight', 'layer1.0.bn3.bias', 'layer1.0.bn3.running_mean', 'layer1.0.bn3.running_var', 'layer1.0.bn3.num_batches_tracked', 'layer1.0.downsample.0.weight', 'layer1.0.downsample.1.weight', 'layer1.0.downsample.1.bias', 'layer1.0.downsample.1.running_mean', 'layer1.0.downsample.1.running_var', 'layer1.0.downsample.1.num_batches_tracked', 'layer1.1.conv1.weight', 'layer1.1.bn1.weight', 'layer1.1.bn1.bias', 'layer1.1.bn1.running_mean', 'layer1.1.bn1.running_var', 'layer1.1.bn1.num_batches_tracked', 'layer1.1.conv2.weight', 'layer1.1.bn2.weight', 'layer1.1.bn2.bias', 'layer1.1.bn2.running_mean', 'layer1.1.bn2.running_var', 'layer1.1.bn2.num_batches_tracked', 'layer1.1.conv3.weight', 'layer1.1.bn3.weight', 'layer1.1.bn3.bias', 'layer1.1.bn3.running_mean', 'layer1.1.bn3.running_var', 'layer1.1.bn3.num_batches_tracked', 'layer1.2.conv1.weight', 'layer1.2.bn1.weight', 'layer1.2.bn1.bias', 'layer1.2.bn1.running_mean', 'layer1.2.bn1.running_var', 'layer1.2.bn1.num_batches_tracked', 'layer1.2.conv2.weight', 'layer1.2.bn2.weight', 'layer1.2.bn2.bias', 'layer1.2.bn2.running_mean', 'layer1.2.bn2.running_var', 'layer1.2.bn2.num_batches_tracked', 'layer1.2.conv3.weight', 'layer1.2.bn3.weight', 'layer1.2.bn3.bias', 'layer1.2.bn3.running_mean', 'layer1.2.bn3.running_var', 'layer1.2.bn3.num_batches_tracked', 'layer2.0.conv1.weight', 'layer2.0.bn1.weight', 'layer2.0.bn1.bias', 'layer2.0.bn1.running_mean', 'layer2.0.bn1.running_var', 'layer2.0.bn1.num_batches_tracked', 'layer2.0.conv2.blur_filter', 'layer2.0.conv2.conv.weight', 'layer2.0.bn2.weight', 'layer2.0.bn2.bias', 'layer2.0.bn2.running_mean', 'layer2.0.bn2.running_var', 'layer2.0.bn2.num_batches_tracked', 'layer2.0.conv3.weight', 'layer2.0.bn3.weight', 'layer2.0.bn3.bias', 'layer2.0.bn3.running_mean', 'layer2.0.bn3.running_var', 'layer2.0.bn3.num_batches_tracked', 'layer2.0.downsample.0.blur_filter', 'layer2.0.downsample.0.conv.weight', 'layer2.0.downsample.1.weight', 'layer2.0.downsample.1.bias', 'layer2.0.downsample.1.running_mean', 'layer2.0.downsample.1.running_var', 'layer2.0.downsample.1.num_batches_tracked', 'layer2.1.conv1.weight', 'layer2.1.bn1.weight', 'layer2.1.bn1.bias', 'layer2.1.bn1.running_mean', 'layer2.1.bn1.running_var', 'layer2.1.bn1.num_batches_tracked', 'layer2.1.conv2.weight', 'layer2.1.bn2.weight', 'layer2.1.bn2.bias', 'layer2.1.bn2.running_mean', 'layer2.1.bn2.running_var', 'layer2.1.bn2.num_batches_tracked', 'layer2.1.conv3.weight', 'layer2.1.bn3.weight', 'layer2.1.bn3.bias', 'layer2.1.bn3.running_mean', 'layer2.1.bn3.running_var', 'layer2.1.bn3.num_batches_tracked', 'layer2.2.conv1.weight', 'layer2.2.bn1.weight', 'layer2.2.bn1.bias', 'layer2.2.bn1.running_mean', 'layer2.2.bn1.running_var', 'layer2.2.bn1.num_batches_tracked', 'layer2.2.conv2.weight', 'layer2.2.bn2.weight', 'layer2.2.bn2.bias', 'layer2.2.bn2.running_mean', 'layer2.2.bn2.running_var', 'layer2.2.bn2.num_batches_tracked', 'layer2.2.conv3.weight', 'layer2.2.bn3.weight', 'layer2.2.bn3.bias', 'layer2.2.bn3.running_mean', 'layer2.2.bn3.running_var', 'layer2.2.bn3.num_batches_tracked', 'layer2.3.conv1.weight', 'layer2.3.bn1.weight', 'layer2.3.bn1.bias', 'layer2.3.bn1.running_mean', 'layer2.3.bn1.running_var', 'layer2.3.bn1.num_batches_tracked', 'layer2.3.conv2.weight', 'layer2.3.bn2.weight', 'layer2.3.bn2.bias', 'layer2.3.bn2.running_mean', 'layer2.3.bn2.running_var', 'layer2.3.bn2.num_batches_tracked', 'layer2.3.conv3.weight', 'layer2.3.bn3.weight', 'layer2.3.bn3.bias', 'layer2.3.bn3.running_mean', 'layer2.3.bn3.running_var', 'layer2.3.bn3.num_batches_tracked', 'layer3.0.conv1.weight', 'layer3.0.bn1.weight', 'layer3.0.bn1.bias', 'layer3.0.bn1.running_mean', 'layer3.0.bn1.running_var', 'layer3.0.bn1.num_batches_tracked', 'layer3.0.conv2.blur_filter', 'layer3.0.conv2.conv.weight', 'layer3.0.bn2.weight', 'layer3.0.bn2.bias', 'layer3.0.bn2.running_mean', 'layer3.0.bn2.running_var', 'layer3.0.bn2.num_batches_tracked', 'layer3.0.conv3.weight', 'layer3.0.bn3.weight', 'layer3.0.bn3.bias', 'layer3.0.bn3.running_mean', 'layer3.0.bn3.running_var', 'layer3.0.bn3.num_batches_tracked', 'layer3.0.downsample.0.blur_filter', 'layer3.0.downsample.0.conv.weight', 'layer3.0.downsample.1.weight', 'layer3.0.downsample.1.bias', 'layer3.0.downsample.1.running_mean', 'layer3.0.downsample.1.running_var', 'layer3.0.downsample.1.num_batches_tracked', 'layer3.1.conv1.weight', 'layer3.1.bn1.weight', 'layer3.1.bn1.bias', 'layer3.1.bn1.running_mean', 'layer3.1.bn1.running_var', 'layer3.1.bn1.num_batches_tracked', 'layer3.1.conv2.weight', 'layer3.1.bn2.weight', 'layer3.1.bn2.bias', 'layer3.1.bn2.running_mean', 'layer3.1.bn2.running_var', 'layer3.1.bn2.num_batches_tracked', 'layer3.1.conv3.weight', 'layer3.1.bn3.weight', 'layer3.1.bn3.bias', 'layer3.1.bn3.running_mean', 'layer3.1.bn3.running_var', 'layer3.1.bn3.num_batches_tracked', 'layer3.2.conv1.weight', 'layer3.2.bn1.weight', 'layer3.2.bn1.bias', 'layer3.2.bn1.running_mean', 'layer3.2.bn1.running_var', 'layer3.2.bn1.num_batches_tracked', 'layer3.2.conv2.weight', 'layer3.2.bn2.weight', 'layer3.2.bn2.bias', 'layer3.2.bn2.running_mean', 'layer3.2.bn2.running_var', 'layer3.2.bn2.num_batches_tracked', 'layer3.2.conv3.weight', 'layer3.2.bn3.weight', 'layer3.2.bn3.bias', 'layer3.2.bn3.running_mean', 'layer3.2.bn3.running_var', 'layer3.2.bn3.num_batches_tracked', 'layer3.3.conv1.weight', 'layer3.3.bn1.weight', 'layer3.3.bn1.bias', 'layer3.3.bn1.running_mean', 'layer3.3.bn1.running_var', 'layer3.3.bn1.num_batches_tracked', 'layer3.3.conv2.weight', 'layer3.3.bn2.weight', 'layer3.3.bn2.bias', 'layer3.3.bn2.running_mean', 'layer3.3.bn2.running_var', 'layer3.3.bn2.num_batches_tracked', 'layer3.3.conv3.weight', 'layer3.3.bn3.weight', 'layer3.3.bn3.bias', 'layer3.3.bn3.running_mean', 'layer3.3.bn3.running_var', 'layer3.3.bn3.num_batches_tracked', 'layer3.4.conv1.weight', 'layer3.4.bn1.weight', 'layer3.4.bn1.bias', 'layer3.4.bn1.running_mean', 'layer3.4.bn1.running_var', 'layer3.4.bn1.num_batches_tracked', 'layer3.4.conv2.weight', 'layer3.4.bn2.weight', 'layer3.4.bn2.bias', 'layer3.4.bn2.running_mean', 'layer3.4.bn2.running_var', 'layer3.4.bn2.num_batches_tracked', 'layer3.4.conv3.weight', 'layer3.4.bn3.weight', 'layer3.4.bn3.bias', 'layer3.4.bn3.running_mean', 'layer3.4.bn3.running_var', 'layer3.4.bn3.num_batches_tracked', 'layer3.5.conv1.weight', 'layer3.5.bn1.weight', 'layer3.5.bn1.bias', 'layer3.5.bn1.running_mean', 'layer3.5.bn1.running_var', 'layer3.5.bn1.num_batches_tracked', 'layer3.5.conv2.weight', 'layer3.5.bn2.weight', 'layer3.5.bn2.bias', 'layer3.5.bn2.running_mean', 'layer3.5.bn2.running_var', 'layer3.5.bn2.num_batches_tracked', 'layer3.5.conv3.weight', 'layer3.5.bn3.weight', 'layer3.5.bn3.bias', 'layer3.5.bn3.running_mean', 'layer3.5.bn3.running_var', 'layer3.5.bn3.num_batches_tracked', 'layer4.0.conv1.weight', 'layer4.0.bn1.weight', 'layer4.0.bn1.bias', 'layer4.0.bn1.running_mean', 'layer4.0.bn1.running_var', 'layer4.0.bn1.num_batches_tracked', 'layer4.0.conv2.blur_filter', 'layer4.0.conv2.conv.weight', 'layer4.0.bn2.weight', 'layer4.0.bn2.bias', 'layer4.0.bn2.running_mean', 'layer4.0.bn2.running_var', 'layer4.0.bn2.num_batches_tracked', 'layer4.0.conv3.weight', 'layer4.0.bn3.weight', 'layer4.0.bn3.bias', 'layer4.0.bn3.running_mean', 'layer4.0.bn3.running_var', 'layer4.0.bn3.num_batches_tracked', 'layer4.0.downsample.0.blur_filter', 'layer4.0.downsample.0.conv.weight', 'layer4.0.downsample.1.weight', 'layer4.0.downsample.1.bias', 'layer4.0.downsample.1.running_mean', 'layer4.0.downsample.1.running_var', 'layer4.0.downsample.1.num_batches_tracked', 'layer4.1.conv1.weight', 'layer4.1.bn1.weight', 'layer4.1.bn1.bias', 'layer4.1.bn1.running_mean', 'layer4.1.bn1.running_var', 'layer4.1.bn1.num_batches_tracked', 'layer4.1.conv2.weight', 'layer4.1.bn2.weight', 'layer4.1.bn2.bias', 'layer4.1.bn2.running_mean', 'layer4.1.bn2.running_var', 'layer4.1.bn2.num_batches_tracked', 'layer4.1.conv3.weight', 'layer4.1.bn3.weight', 'layer4.1.bn3.bias', 'layer4.1.bn3.running_mean', 'layer4.1.bn3.running_var', 'layer4.1.bn3.num_batches_tracked', 'layer4.2.conv1.weight', 'layer4.2.bn1.weight', 'layer4.2.bn1.bias', 'layer4.2.bn1.running_mean', 'layer4.2.bn1.running_var', 'layer4.2.bn1.num_batches_tracked', 'layer4.2.conv2.weight', 'layer4.2.bn2.weight', 'layer4.2.bn2.bias', 'layer4.2.bn2.running_mean', 'layer4.2.bn2.running_var', 'layer4.2.bn2.num_batches_tracked', 'layer4.2.conv3.weight', 'layer4.2.bn3.weight', 'layer4.2.bn3.bias', 'layer4.2.bn3.running_mean', 'layer4.2.bn3.running_var', 'layer4.2.bn3.num_batches_tracked', 'fc.weight', 'fc.bias'])\n",
            "=> loaded checkpoint '/content/gdrive/MyDrive/nrlpq/Imagenet1k_R50_sh1_mh0_ns3_ff2048/final_weights.pt' \n",
            "Loaded pretrained model: /content/gdrive/MyDrive/nrlpq/Imagenet1k_R50_sh1_mh0_ns3_ff2048/final_weights.pt\n",
            "batch size is 128\n",
            "Files already downloaded and verified\n",
            "len of all train data is 50000\n",
            "len of train val split is  40000 10000 respectively\n",
            "Files already downloaded and verified\n",
            "length of train, val and test DataLoader is  313 79 79\n"
          ]
        }
      ]
    },
    {
      "cell_type": "code",
      "source": [
        "\n",
        "def training_loop(model, criterion, optimizer, train_loader, valid_loader, epochs, device):\n",
        "    train_losses = []\n",
        "    valid_losses = []\n",
        "\n",
        "    for epoch in range(0, epochs):\n",
        "        # training\n",
        "        print(f'EPOCH:{epoch}')\n",
        "        print('Computing Train Loss..')\n",
        "        model, optimizer, train_loss = train(train_loader, model, criterion, optimizer, device)\n",
        "      \n",
        "        print(train_loss)\n",
        "        train_losses.append(train_loss)\n",
        "\n",
        "        # validation\n",
        "        with torch.no_grad():\n",
        "            print('Computing Validation Loss..')\n",
        "            model, valid_loss = validate(valid_loader, model, criterion, device)\n",
        "            print(valid_loss)\n",
        "            valid_losses.append(valid_loss)\n",
        "        print('--------------------------------')\n",
        "  \n",
        "    return model, train_losses, valid_losses\n",
        "\n",
        "def train(train_loader, model, criterion, optimizer, device):\n",
        "    model.train()\n",
        "    running_loss = 0\n",
        "    for X, y in train_loader:\n",
        "        optimizer.zero_grad()\n",
        "        X = X.to(device)\n",
        "        y = y.to(device)\n",
        "        pred = model(X) \n",
        "        loss = criterion(pred, y) \n",
        "        running_loss += loss.item() * X.size(0)\n",
        "        loss.backward()\n",
        "        optimizer.step()\n",
        "      #  print(loss.cpu().data.item())\n",
        "        \n",
        "    epoch_loss = running_loss / len(train_loader.dataset)\n",
        "    return model, optimizer, epoch_loss\n",
        "\n",
        "def validate(valid_loader, model, criterion, device):\n",
        "    model.eval()\n",
        "    running_loss = 0\n",
        "    correct_count, all_count = 0, 0\n",
        "    \n",
        "    for X, y in valid_loader:\n",
        "        X = X.to(device)\n",
        "        y = y.to(device)\n",
        "        pred = model(X) \n",
        "        \n",
        "        loss = criterion(pred, y) \n",
        "        running_loss += loss.item() * X.size(0)\n",
        "\n",
        "    epoch_loss = running_loss / len(valid_loader.dataset)\n",
        "    return model, epoch_loss\n",
        "\n",
        "def get_accuracy(model,data_loader,rep_no):\n",
        "  correct_count, all_count = 0, 0\n",
        "  for images,labels in data_loader:\n",
        "    images,labels = images.to(device), labels.to(device)\n",
        "    images = images.to(device)\n",
        "    true_label = labels.to(device)\n",
        "    pred = model(images) \n",
        "    pred = pred[rep_no]\n",
        "    pred_label = torch.argmax(pred, dim=1)\n",
        "    correct_count += torch.eq(true_label, pred_label).sum().item()\n",
        "    all_count +=len(true_label)\n",
        "  return correct_count/all_count\n",
        "    "
      ],
      "metadata": {
        "id": "5Sv9k7-7p5DG"
      },
      "execution_count": 50,
      "outputs": []
    },
    {
      "cell_type": "markdown",
      "source": [
        "# New section"
      ],
      "metadata": {
        "id": "oldbihudp1cN"
      }
    },
    {
      "cell_type": "code",
      "source": [
        "optimizer = torch.optim.Adam(model.parameters(), lr=0.001)\n",
        "criterion = NestedCELoss()\n",
        "epochs = 5\n",
        "device = torch.device('cuda')\n",
        "model,_,_ = training_loop(model, criterion, optimizer, train_loader, val_loader, epochs, device)"
      ],
      "metadata": {
        "colab": {
          "base_uri": "https://localhost:8080/"
        },
        "id": "5xyRlzQQqXBv",
        "outputId": "ee8c3ef3-3b6d-4bb7-ded4-b8ec6a406550"
      },
      "execution_count": 55,
      "outputs": [
        {
          "output_type": "stream",
          "name": "stdout",
          "text": [
            "EPOCH:0\n",
            "Computing Train Loss..\n",
            "6.011301904296875\n",
            "Computing Validation Loss..\n",
            "5.286576997375488\n",
            "--------------------------------\n",
            "EPOCH:1\n",
            "Computing Train Loss..\n",
            "4.031912699890137\n",
            "Computing Validation Loss..\n",
            "4.9679229537963865\n",
            "--------------------------------\n",
            "EPOCH:2\n",
            "Computing Train Loss..\n",
            "3.0428650550842287\n",
            "Computing Validation Loss..\n",
            "4.804326953125\n",
            "--------------------------------\n",
            "EPOCH:3\n",
            "Computing Train Loss..\n",
            "2.318456162452698\n",
            "Computing Validation Loss..\n",
            "4.594423379135132\n",
            "--------------------------------\n",
            "EPOCH:4\n",
            "Computing Train Loss..\n",
            "1.797331795692444\n",
            "Computing Validation Loss..\n",
            "4.857280410766601\n",
            "--------------------------------\n"
          ]
        }
      ]
    },
    {
      "cell_type": "code",
      "source": [
        "res = get_accuracy(model, test_loader,3)\n",
        "res"
      ],
      "metadata": {
        "colab": {
          "base_uri": "https://localhost:8080/"
        },
        "id": "paaQSIdJtPoX",
        "outputId": "6f053285-50c8-4540-9c7c-27d70638dd7b"
      },
      "execution_count": 61,
      "outputs": [
        {
          "output_type": "execute_result",
          "data": {
            "text/plain": [
              "0.8528"
            ]
          },
          "metadata": {},
          "execution_count": 61
        }
      ]
    }
  ]
}